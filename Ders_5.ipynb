{
 "cells": [
  {
   "cell_type": "markdown",
   "id": "3cdf4c29",
   "metadata": {},
   "source": [
    "# VERİ BİLİMİNDE KULLANILAN ÖNEMLİ FONKSİYONLAR"
   ]
  },
  {
   "cell_type": "code",
   "execution_count": 1,
   "id": "e1fd166b",
   "metadata": {},
   "outputs": [],
   "source": [
    "#RANGE : İstenilen sayıda istenilen sayının 1 eksiği kadar sana çıktı veriyor"
   ]
  },
  {
   "cell_type": "code",
   "execution_count": 2,
   "id": "dae3709c",
   "metadata": {},
   "outputs": [
    {
     "data": {
      "text/plain": [
       "range(0, 15)"
      ]
     },
     "execution_count": 2,
     "metadata": {},
     "output_type": "execute_result"
    }
   ],
   "source": [
    "range(15)"
   ]
  },
  {
   "cell_type": "code",
   "execution_count": 3,
   "id": "b9c2d104",
   "metadata": {},
   "outputs": [
    {
     "data": {
      "text/plain": [
       "[0, 1, 2, 3, 4, 5, 6, 7, 8, 9, 10, 11, 12, 13, 14]"
      ]
     },
     "execution_count": 3,
     "metadata": {},
     "output_type": "execute_result"
    }
   ],
   "source": [
    "list((range(15)))"
   ]
  },
  {
   "cell_type": "code",
   "execution_count": 5,
   "id": "05caad21",
   "metadata": {},
   "outputs": [
    {
     "name": "stdout",
     "output_type": "stream",
     "text": [
      "0\n",
      "2\n",
      "4\n",
      "6\n",
      "8\n",
      "10\n",
      "12\n",
      "14\n",
      "16\n",
      "18\n",
      "20\n",
      "22\n",
      "24\n",
      "26\n",
      "28\n"
     ]
    }
   ],
   "source": [
    "for numara in list(range(15)):\n",
    "    print(numara*2)"
   ]
  },
  {
   "cell_type": "code",
   "execution_count": 6,
   "id": "2ed991d6",
   "metadata": {},
   "outputs": [],
   "source": [
    "# atlayarak gidebilirsin"
   ]
  },
  {
   "cell_type": "code",
   "execution_count": 7,
   "id": "9ad022d8",
   "metadata": {},
   "outputs": [
    {
     "data": {
      "text/plain": [
       "[2, 12, 22, 32, 42, 52, 62]"
      ]
     },
     "execution_count": 7,
     "metadata": {},
     "output_type": "execute_result"
    }
   ],
   "source": [
    "list(range(2,65,10))"
   ]
  },
  {
   "cell_type": "code",
   "execution_count": 8,
   "id": "08286c0c",
   "metadata": {},
   "outputs": [],
   "source": [
    "# ENUMERATE : eşleştirme işlemi yapıyor bize\n"
   ]
  },
  {
   "cell_type": "code",
   "execution_count": 9,
   "id": "9f117cc2",
   "metadata": {},
   "outputs": [
    {
     "name": "stdout",
     "output_type": "stream",
     "text": [
      "0\n",
      "1\n",
      "2\n",
      "3\n",
      "4\n",
      "5\n",
      "6\n",
      "7\n",
      "8\n",
      "9\n",
      "10\n",
      "11\n",
      "12\n",
      "13\n",
      "14\n"
     ]
    }
   ],
   "source": [
    "for eleman in list(range(15)):\n",
    "    print(eleman)"
   ]
  },
  {
   "cell_type": "code",
   "execution_count": 10,
   "id": "0599cfc0",
   "metadata": {},
   "outputs": [
    {
     "name": "stdout",
     "output_type": "stream",
     "text": [
      "(0, 0)\n",
      "(1, 1)\n",
      "(2, 2)\n",
      "(3, 3)\n",
      "(4, 4)\n",
      "(5, 5)\n",
      "(6, 6)\n",
      "(7, 7)\n",
      "(8, 8)\n",
      "(9, 9)\n",
      "(10, 10)\n",
      "(11, 11)\n",
      "(12, 12)\n",
      "(13, 13)\n",
      "(14, 14)\n"
     ]
    }
   ],
   "source": [
    "for eleman in enumerate (list(range(15))):\n",
    "    print(eleman)"
   ]
  },
  {
   "cell_type": "code",
   "execution_count": null,
   "id": "015e3501",
   "metadata": {},
   "outputs": [],
   "source": [
    "# indeks numaralarına göre bir eşleştirme işlemi yapacaktır."
   ]
  },
  {
   "cell_type": "code",
   "execution_count": 11,
   "id": "8959ff7a",
   "metadata": {},
   "outputs": [
    {
     "name": "stdout",
     "output_type": "stream",
     "text": [
      "(0, 5)\n",
      "(1, 6)\n",
      "(2, 7)\n",
      "(3, 8)\n",
      "(4, 9)\n",
      "(5, 10)\n",
      "(6, 11)\n",
      "(7, 12)\n",
      "(8, 13)\n",
      "(9, 14)\n"
     ]
    }
   ],
   "source": [
    "for eleman in enumerate(list(range(5,15))):\n",
    "    print(eleman)"
   ]
  },
  {
   "cell_type": "code",
   "execution_count": 12,
   "id": "b37ec1d6",
   "metadata": {},
   "outputs": [
    {
     "name": "stdout",
     "output_type": "stream",
     "text": [
      "<class 'tuple'>\n",
      "<class 'tuple'>\n",
      "<class 'tuple'>\n",
      "<class 'tuple'>\n",
      "<class 'tuple'>\n",
      "<class 'tuple'>\n",
      "<class 'tuple'>\n",
      "<class 'tuple'>\n",
      "<class 'tuple'>\n",
      "<class 'tuple'>\n"
     ]
    }
   ],
   "source": [
    "for eleman in enumerate(list(range(5,15))):\n",
    "    print(type(eleman))\n",
    " "
   ]
  },
  {
   "cell_type": "code",
   "execution_count": 15,
   "id": "35a6fca1",
   "metadata": {},
   "outputs": [
    {
     "name": "stdout",
     "output_type": "stream",
     "text": [
      "5\n",
      "6\n",
      "7\n",
      "8\n",
      "9\n",
      "10\n",
      "11\n",
      "12\n",
      "13\n",
      "14\n"
     ]
    }
   ],
   "source": [
    "for (index,eleman) in enumerate(list(range(5,15))):\n",
    "    print(eleman)"
   ]
  },
  {
   "cell_type": "code",
   "execution_count": 17,
   "id": "7068a769",
   "metadata": {},
   "outputs": [],
   "source": [
    "#RANDOM : verdiği kapsam içinde rastgele bir sayı döndürür ve import edilmesi gerekir."
   ]
  },
  {
   "cell_type": "code",
   "execution_count": 18,
   "id": "db020a04",
   "metadata": {},
   "outputs": [],
   "source": [
    "from random import randint"
   ]
  },
  {
   "cell_type": "code",
   "execution_count": 19,
   "id": "40bb4a8c",
   "metadata": {},
   "outputs": [
    {
     "data": {
      "text/plain": [
       "3"
      ]
     },
     "execution_count": 19,
     "metadata": {},
     "output_type": "execute_result"
    }
   ],
   "source": [
    "randint(0,12)"
   ]
  },
  {
   "cell_type": "code",
   "execution_count": 25,
   "id": "9e5c9e3b",
   "metadata": {},
   "outputs": [],
   "source": [
    "lıstem=list(range(1,12))"
   ]
  },
  {
   "cell_type": "code",
   "execution_count": 26,
   "id": "07e96e5d",
   "metadata": {},
   "outputs": [
    {
     "data": {
      "text/plain": [
       "[1, 2, 3, 4, 5, 6, 7, 8, 9, 10, 11]"
      ]
     },
     "execution_count": 26,
     "metadata": {},
     "output_type": "execute_result"
    }
   ],
   "source": [
    "lıstem"
   ]
  },
  {
   "cell_type": "code",
   "execution_count": 27,
   "id": "2b7b9900",
   "metadata": {},
   "outputs": [],
   "source": [
    "from random import shuffle"
   ]
  },
  {
   "cell_type": "code",
   "execution_count": 28,
   "id": "8022e925",
   "metadata": {},
   "outputs": [],
   "source": [
    "shuffle(lıstem)"
   ]
  },
  {
   "cell_type": "code",
   "execution_count": 29,
   "id": "14186d8c",
   "metadata": {},
   "outputs": [
    {
     "data": {
      "text/plain": [
       "[2, 10, 6, 1, 5, 3, 9, 8, 11, 7, 4]"
      ]
     },
     "execution_count": 29,
     "metadata": {},
     "output_type": "execute_result"
    }
   ],
   "source": [
    "lıstem"
   ]
  },
  {
   "cell_type": "code",
   "execution_count": 30,
   "id": "e1a9ce12",
   "metadata": {},
   "outputs": [],
   "source": [
    "# ZİP : sıkıştırmak anlamlarına geliyor. istediğin kadar argüman ekleyebilirsin."
   ]
  },
  {
   "cell_type": "code",
   "execution_count": 31,
   "id": "2535badc",
   "metadata": {},
   "outputs": [],
   "source": [
    "yemekler=[\"makarna\",\"çorba\",\"salata\"]\n",
    "kalorı=[100,200,300]\n",
    "gunler=[\"pazartesi\",\"salı\",\"çarşamba\",\"perşembe\",\"cuma\"]"
   ]
  },
  {
   "cell_type": "code",
   "execution_count": 33,
   "id": "a6ff89da",
   "metadata": {},
   "outputs": [
    {
     "data": {
      "text/plain": [
       "[('makarna', 100, 'pazartesi'),\n",
       " ('çorba', 200, 'salı'),\n",
       " ('salata', 300, 'çarşamba')]"
      ]
     },
     "execution_count": 33,
     "metadata": {},
     "output_type": "execute_result"
    }
   ],
   "source": [
    "list(zip(yemekler,kalorı,gunler))"
   ]
  },
  {
   "cell_type": "code",
   "execution_count": 34,
   "id": "385bdf41",
   "metadata": {},
   "outputs": [],
   "source": [
    "zıpLıste=list(zip(yemekler,kalorı,gunler))"
   ]
  },
  {
   "cell_type": "code",
   "execution_count": 35,
   "id": "6abd48f4",
   "metadata": {},
   "outputs": [
    {
     "data": {
      "text/plain": [
       "list"
      ]
     },
     "execution_count": 35,
     "metadata": {},
     "output_type": "execute_result"
    }
   ],
   "source": [
    "type(zıpLıste)"
   ]
  },
  {
   "cell_type": "code",
   "execution_count": 36,
   "id": "ffc50349",
   "metadata": {},
   "outputs": [
    {
     "name": "stdout",
     "output_type": "stream",
     "text": [
      "<class 'tuple'>\n",
      "<class 'tuple'>\n",
      "<class 'tuple'>\n"
     ]
    }
   ],
   "source": [
    "for eleman in zıpLıste:\n",
    "    print(type(eleman))\n"
   ]
  },
  {
   "cell_type": "code",
   "execution_count": 37,
   "id": "84320f55",
   "metadata": {},
   "outputs": [],
   "source": [
    "bosLıste=[]\n",
    "benımStrıng=\"EVİN KAZALAK\"\n",
    "for harf in benımStrıng:\n",
    "    bosLıste.append(harf)"
   ]
  },
  {
   "cell_type": "code",
   "execution_count": 38,
   "id": "d0e13029",
   "metadata": {},
   "outputs": [
    {
     "data": {
      "text/plain": [
       "['E', 'V', 'İ', 'N', ' ', 'K', 'A', 'Z', 'A', 'L', 'A', 'K']"
      ]
     },
     "execution_count": 38,
     "metadata": {},
     "output_type": "execute_result"
    }
   ],
   "source": [
    "bosLıste"
   ]
  },
  {
   "cell_type": "code",
   "execution_count": 41,
   "id": "0efe25ce",
   "metadata": {},
   "outputs": [],
   "source": [
    "#rastgele bir liste oluşturup,listedeki her bir elemanı 5 ile çarpmanı istiyorum senden"
   ]
  },
  {
   "cell_type": "code",
   "execution_count": 42,
   "id": "396ebeb9",
   "metadata": {},
   "outputs": [],
   "source": [
    "ornekLıste=[numara**5 for numara in list (range(0,10))]"
   ]
  },
  {
   "cell_type": "code",
   "execution_count": 43,
   "id": "c6eef964",
   "metadata": {},
   "outputs": [
    {
     "data": {
      "text/plain": [
       "[0, 1, 32, 243, 1024, 3125, 7776, 16807, 32768, 59049]"
      ]
     },
     "execution_count": 43,
     "metadata": {},
     "output_type": "execute_result"
    }
   ],
   "source": [
    "ornekLıste"
   ]
  },
  {
   "cell_type": "code",
   "execution_count": 44,
   "id": "c2305e1c",
   "metadata": {},
   "outputs": [],
   "source": [
    "adım=\"evin kazalak\""
   ]
  },
  {
   "cell_type": "code",
   "execution_count": 45,
   "id": "8390f4e7",
   "metadata": {},
   "outputs": [
    {
     "data": {
      "text/plain": [
       "'EVIN KAZALAK'"
      ]
     },
     "execution_count": 45,
     "metadata": {},
     "output_type": "execute_result"
    }
   ],
   "source": [
    "adım.upper()"
   ]
  },
  {
   "cell_type": "code",
   "execution_count": 46,
   "id": "542a1a71",
   "metadata": {},
   "outputs": [],
   "source": [
    "def ilkFonksiyonum():\n",
    "    print(\"Bu benim yazdığım ilk fonksiyonum\")"
   ]
  },
  {
   "cell_type": "code",
   "execution_count": 48,
   "id": "60071cc3",
   "metadata": {},
   "outputs": [
    {
     "name": "stdout",
     "output_type": "stream",
     "text": [
      "Bu benim yazdığım ilk fonksiyonum\n"
     ]
    }
   ],
   "source": [
    "ilkFonksiyonum()"
   ]
  },
  {
   "cell_type": "code",
   "execution_count": 51,
   "id": "1d97075e",
   "metadata": {},
   "outputs": [],
   "source": [
    "def merhabaDunya(ısım):\n",
    "    print(\"hoşgeldin\")\n",
    "    print(ısım)"
   ]
  },
  {
   "cell_type": "code",
   "execution_count": 53,
   "id": "1f6f8d92",
   "metadata": {},
   "outputs": [
    {
     "name": "stdout",
     "output_type": "stream",
     "text": [
      "hoşgeldin\n",
      "evin\n"
     ]
    }
   ],
   "source": [
    "merhabaDunya(\"evin\")"
   ]
  },
  {
   "cell_type": "code",
   "execution_count": 59,
   "id": "41e383e4",
   "metadata": {},
   "outputs": [],
   "source": [
    "def merhabaDunya(ısım=\"Evin\"):\n",
    "    print(\"hoşgeldin\")\n",
    "    print(ısım)\n",
    "    "
   ]
  },
  {
   "cell_type": "code",
   "execution_count": 60,
   "id": "138747e7",
   "metadata": {},
   "outputs": [
    {
     "name": "stdout",
     "output_type": "stream",
     "text": [
      "hoşgeldin\n",
      "Evin\n"
     ]
    }
   ],
   "source": [
    "merhabaDunya()"
   ]
  },
  {
   "cell_type": "code",
   "execution_count": 61,
   "id": "8e6548c6",
   "metadata": {},
   "outputs": [],
   "source": [
    "def toplama(sayi1,sayi2):\n",
    "    sonuc=sayi1+sayi2\n",
    "    print(sonuc)"
   ]
  },
  {
   "cell_type": "code",
   "execution_count": 62,
   "id": "7ab788c5",
   "metadata": {},
   "outputs": [
    {
     "name": "stdout",
     "output_type": "stream",
     "text": [
      "46\n"
     ]
    }
   ],
   "source": [
    "toplama(12,34)"
   ]
  },
  {
   "cell_type": "code",
   "execution_count": 68,
   "id": "636d0c65",
   "metadata": {},
   "outputs": [],
   "source": [
    "def kontrolFonksyıyonu(s):\n",
    "    if s== \"Evin\":\n",
    "        print(\"verdiğin string Evin\")\n",
    "    else:\n",
    "        print(\"verdiğin string Evin değil\")"
   ]
  },
  {
   "cell_type": "code",
   "execution_count": 70,
   "id": "e054e1e0",
   "metadata": {},
   "outputs": [
    {
     "name": "stdout",
     "output_type": "stream",
     "text": [
      "verdiğin string Evin değil\n"
     ]
    }
   ],
   "source": [
    "kontrolFonksyıyonu(\"evin\")"
   ]
  },
  {
   "cell_type": "code",
   "execution_count": 71,
   "id": "7a1f36b8",
   "metadata": {},
   "outputs": [],
   "source": [
    "# ARGS: Sayısız argüman demektir. istediğin kadar argüman yazabilirsin."
   ]
  },
  {
   "cell_type": "code",
   "execution_count": 72,
   "id": "0c201605",
   "metadata": {},
   "outputs": [],
   "source": [
    "# şimdiki örnekte return dediğim için bana sonucu döndürüyor.  ve args ile ben istediğim kadar argüman verebiliyorum"
   ]
  },
  {
   "cell_type": "code",
   "execution_count": 79,
   "id": "3154ef47",
   "metadata": {},
   "outputs": [],
   "source": [
    "def Yenıtoplamam (*args):\n",
    "    return sum(args)"
   ]
  },
  {
   "cell_type": "code",
   "execution_count": 80,
   "id": "829371ec",
   "metadata": {},
   "outputs": [
    {
     "data": {
      "text/plain": [
       "45"
      ]
     },
     "execution_count": 80,
     "metadata": {},
     "output_type": "execute_result"
    }
   ],
   "source": [
    "Yenıtoplamam(1,2,3,4,5,6,7,8,9)"
   ]
  },
  {
   "cell_type": "code",
   "execution_count": 81,
   "id": "cbbd8436",
   "metadata": {},
   "outputs": [],
   "source": [
    "#KWARGS : Anahtar kelimelerle çalıştığımızda işe yarıyor. burada 2 tane ** kullan."
   ]
  },
  {
   "cell_type": "code",
   "execution_count": 82,
   "id": "8e337043",
   "metadata": {},
   "outputs": [],
   "source": [
    "def keyWordKontrolu(** Kwargs):\n",
    "    if \"evin\" in Kwargs:\n",
    "        print(\"Evin var\")\n",
    "    else:\n",
    "        print(\"eVİN YOK\")"
   ]
  },
  {
   "cell_type": "code",
   "execution_count": 83,
   "id": "dcf9679e",
   "metadata": {},
   "outputs": [
    {
     "name": "stdout",
     "output_type": "stream",
     "text": [
      "Evin var\n"
     ]
    }
   ],
   "source": [
    "keyWordKontrolu(ahmet=34,mehmet=12,evin=23)"
   ]
  },
  {
   "cell_type": "code",
   "execution_count": 84,
   "id": "f169b89b",
   "metadata": {},
   "outputs": [],
   "source": [
    "# bölme işlemi ile ilgili ben bir fonksiyon tanımlamak istiyorum"
   ]
  },
  {
   "cell_type": "code",
   "execution_count": 92,
   "id": "541e66b2",
   "metadata": {},
   "outputs": [],
   "source": [
    "def bolmeIslem(numaraaaam):\n",
    "    return numaraaaam/2"
   ]
  },
  {
   "cell_type": "code",
   "execution_count": 94,
   "id": "efbb220b",
   "metadata": {},
   "outputs": [
    {
     "data": {
      "text/plain": [
       "6.0"
      ]
     },
     "execution_count": 94,
     "metadata": {},
     "output_type": "execute_result"
    }
   ],
   "source": [
    "bolmeIslem(12)"
   ]
  },
  {
   "cell_type": "code",
   "execution_count": 95,
   "id": "60536d98",
   "metadata": {},
   "outputs": [],
   "source": [
    "lıstemmmm=[1,2,3,4,5,6,7,8,9,0,98,90,894]"
   ]
  },
  {
   "cell_type": "code",
   "execution_count": 97,
   "id": "55358183",
   "metadata": {},
   "outputs": [],
   "source": [
    "YenıLıste=[]\n",
    "for eleman in lıstemmmm:\n",
    "    YenıLıste.append(bolmeIslem(eleman))"
   ]
  },
  {
   "cell_type": "code",
   "execution_count": 98,
   "id": "b4a869e3",
   "metadata": {},
   "outputs": [
    {
     "data": {
      "text/plain": [
       "[0.5, 1.0, 1.5, 2.0, 2.5, 3.0, 3.5, 4.0, 4.5, 0.0, 49.0, 45.0, 447.0]"
      ]
     },
     "execution_count": 98,
     "metadata": {},
     "output_type": "execute_result"
    }
   ],
   "source": [
    "YenıLıste"
   ]
  },
  {
   "cell_type": "code",
   "execution_count": 107,
   "id": "252b2d7b",
   "metadata": {},
   "outputs": [],
   "source": [
    "#MAP : Haritalama demektir genellikle verilen herhangi bir şeyde herhangi bir strinde bir harf\n",
    "#varmı yada yokmu onu kontrol etmek için kullanılır.\n",
    "# true yada false diye bir sonuç geri döndürür."
   ]
  },
  {
   "cell_type": "code",
   "execution_count": 108,
   "id": "df6f22bb",
   "metadata": {},
   "outputs": [],
   "source": [
    "def kontrolum(string):\n",
    "    return \"a\" in string"
   ]
  },
  {
   "cell_type": "code",
   "execution_count": 109,
   "id": "2eb5369c",
   "metadata": {},
   "outputs": [
    {
     "data": {
      "text/plain": [
       "False"
      ]
     },
     "execution_count": 109,
     "metadata": {},
     "output_type": "execute_result"
    }
   ],
   "source": [
    "kontrolum(\"Evin\")"
   ]
  },
  {
   "cell_type": "code",
   "execution_count": 110,
   "id": "3a22dc39",
   "metadata": {},
   "outputs": [
    {
     "data": {
      "text/plain": [
       "True"
      ]
     },
     "execution_count": 110,
     "metadata": {},
     "output_type": "execute_result"
    }
   ],
   "source": [
    "kontrolum(\"ahmet\")"
   ]
  },
  {
   "cell_type": "code",
   "execution_count": 111,
   "id": "31d2fca5",
   "metadata": {},
   "outputs": [],
   "source": [
    "# map fonksiyonunu  bir liste içnde de kullanabilirsin."
   ]
  },
  {
   "cell_type": "code",
   "execution_count": 112,
   "id": "a8e3cd8b",
   "metadata": {},
   "outputs": [],
   "source": [
    "StrıngLıstem=[\"Evin\",\"Kazalak\",\"Erva\",\"Asil\",\"Berfin\"]"
   ]
  },
  {
   "cell_type": "code",
   "execution_count": 113,
   "id": "e0522dd7",
   "metadata": {},
   "outputs": [
    {
     "data": {
      "text/plain": [
       "[False, True, True, False, False]"
      ]
     },
     "execution_count": 113,
     "metadata": {},
     "output_type": "execute_result"
    }
   ],
   "source": [
    "list(map(kontrolum,StrıngLıstem))"
   ]
  },
  {
   "cell_type": "code",
   "execution_count": 114,
   "id": "175cbe74",
   "metadata": {},
   "outputs": [],
   "source": [
    "sonuc=list(map(kontrolum,StrıngLıstem))"
   ]
  },
  {
   "cell_type": "code",
   "execution_count": 116,
   "id": "5fc8e2cf",
   "metadata": {},
   "outputs": [
    {
     "data": {
      "text/plain": [
       "3"
      ]
     },
     "execution_count": 116,
     "metadata": {},
     "output_type": "execute_result"
    }
   ],
   "source": [
    "sonuc.count(False)"
   ]
  },
  {
   "cell_type": "code",
   "execution_count": 117,
   "id": "d43ed894",
   "metadata": {},
   "outputs": [
    {
     "data": {
      "text/plain": [
       "2"
      ]
     },
     "execution_count": 117,
     "metadata": {},
     "output_type": "execute_result"
    }
   ],
   "source": [
    "sonuc.count(True)"
   ]
  },
  {
   "cell_type": "code",
   "execution_count": 118,
   "id": "4d13122c",
   "metadata": {},
   "outputs": [],
   "source": [
    "# Filter fonksiyonu sadece true olanları bana gösteriyor diğerlerini değil"
   ]
  },
  {
   "cell_type": "code",
   "execution_count": 119,
   "id": "fc3d3751",
   "metadata": {},
   "outputs": [
    {
     "data": {
      "text/plain": [
       "['Kazalak', 'Erva']"
      ]
     },
     "execution_count": 119,
     "metadata": {},
     "output_type": "execute_result"
    }
   ],
   "source": [
    "list(filter(kontrolum,StrıngLıstem))"
   ]
  },
  {
   "cell_type": "code",
   "execution_count": null,
   "id": "bc5d90d3",
   "metadata": {},
   "outputs": [],
   "source": []
  }
 ],
 "metadata": {
  "kernelspec": {
   "display_name": "Python 3 (ipykernel)",
   "language": "python",
   "name": "python3"
  },
  "language_info": {
   "codemirror_mode": {
    "name": "ipython",
    "version": 3
   },
   "file_extension": ".py",
   "mimetype": "text/x-python",
   "name": "python",
   "nbconvert_exporter": "python",
   "pygments_lexer": "ipython3",
   "version": "3.9.7"
  }
 },
 "nbformat": 4,
 "nbformat_minor": 5
}
